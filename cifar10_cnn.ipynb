{
  "nbformat": 4,
  "nbformat_minor": 0,
  "metadata": {
    "colab": {
      "name": "cifar10_cnn.ipynb",
      "version": "0.3.2",
      "views": {},
      "default_view": {},
      "provenance": []
    },
    "kernelspec": {
      "display_name": "Python 3",
      "language": "python",
      "name": "python3"
    },
    "accelerator": "GPU"
  },
  "cells": [
    {
      "metadata": {
        "id": "_bLVwKIh-o_k",
        "colab_type": "text"
      },
      "cell_type": "markdown",
      "source": [
        "## Training a Convolutional Neural Network on 10 Classes from the CIFAR10 dataset.\n",
        "\n",
        "### import all necessary python modules"
      ]
    },
    {
      "metadata": {
        "id": "vIcK594F4pGg",
        "colab_type": "code",
        "colab": {
          "autoexec": {
            "startup": false,
            "wait_interval": 0
          },
          "base_uri": "https://localhost:8080/",
          "height": 34
        },
        "outputId": "a4b82164-97a0-443c-8242-8e72980a52ab",
        "executionInfo": {
          "status": "ok",
          "timestamp": 1532544802663,
          "user_tz": 240,
          "elapsed": 3329,
          "user": {
            "displayName": "",
            "photoUrl": "",
            "userId": ""
          }
        }
      },
      "cell_type": "code",
      "source": [
        "'''Train a simple deep CNN on the CIFAR10 small images dataset.\n",
        "It gets to 75% validation accuracy in 25 epochs, and 79% after 50 epochs.\n",
        "(it's still underfitting at that point, though).\n",
        "'''\n",
        "\n",
        "from __future__ import print_function\n",
        "import keras\n",
        "from keras.datasets import cifar10\n",
        "from keras.preprocessing.image import ImageDataGenerator\n",
        "from keras.models import Sequential\n",
        "from keras.layers import Dense, Dropout, Activation, Flatten\n",
        "from keras.layers import Conv2D, MaxPooling2D\n",
        "import os\n",
        "import numpy as np\n",
        "import matplotlib.pyplot as plt\n",
        "%matplotlib inline"
      ],
      "execution_count": 1,
      "outputs": [
        {
          "output_type": "stream",
          "text": [
            "Using TensorFlow backend.\n"
          ],
          "name": "stderr"
        }
      ]
    },
    {
      "metadata": {
        "id": "OYY3OfoEACEu",
        "colab_type": "text"
      },
      "cell_type": "markdown",
      "source": [
        "### set hyperparameters"
      ]
    },
    {
      "metadata": {
        "id": "kKNr4Rv54pGj",
        "colab_type": "code",
        "colab": {
          "autoexec": {
            "startup": false,
            "wait_interval": 0
          }
        }
      },
      "cell_type": "code",
      "source": [
        "batch_size = 32\n",
        "num_classes = 10\n",
        "epochs = 20\n",
        "data_augmentation = True"
      ],
      "execution_count": 0,
      "outputs": []
    },
    {
      "metadata": {
        "id": "Ls4b_ZFeAMQT",
        "colab_type": "text"
      },
      "cell_type": "markdown",
      "source": [
        "### get training and testing data formatted"
      ]
    },
    {
      "metadata": {
        "id": "b3KeS0Yp4pGl",
        "colab_type": "code",
        "colab": {
          "autoexec": {
            "startup": false,
            "wait_interval": 0
          },
          "base_uri": "https://localhost:8080/",
          "height": 68
        },
        "outputId": "395e78c2-aa75-4cd6-ee83-ecdc70ac7bcb",
        "executionInfo": {
          "status": "ok",
          "timestamp": 1532548432455,
          "user_tz": 240,
          "elapsed": 548,
          "user": {
            "displayName": "",
            "photoUrl": "",
            "userId": ""
          }
        }
      },
      "cell_type": "code",
      "source": [
        "# The data, split between train and test sets:\n",
        "(x_train, y_train), (x_test, y_test) = cifar10.load_data()\n",
        "print('x_train shape:', x_train.shape)\n",
        "print(x_train.shape[0], 'train samples')\n",
        "print(x_test.shape[0], 'test samples')\n",
        "\n",
        "# Convert class vectors to binary class matrices.\n",
        "y_train = keras.utils.to_categorical(y_train, num_classes)\n",
        "y_test = keras.utils.to_categorical(y_test, num_classes)"
      ],
      "execution_count": 29,
      "outputs": [
        {
          "output_type": "stream",
          "text": [
            "x_train shape: (50000, 32, 32, 3)\n",
            "50000 train samples\n",
            "10000 test samples\n"
          ],
          "name": "stdout"
        }
      ]
    },
    {
      "metadata": {
        "id": "iot10411AV2A",
        "colab_type": "text"
      },
      "cell_type": "markdown",
      "source": [
        "### building the model and outputting a summary"
      ]
    },
    {
      "metadata": {
        "id": "5AnoQbdDAQl9",
        "colab_type": "code",
        "colab": {
          "autoexec": {
            "startup": false,
            "wait_interval": 0
          },
          "base_uri": "https://localhost:8080/",
          "height": 748
        },
        "outputId": "eaa2f7af-a635-431a-a00c-0494cd696980",
        "executionInfo": {
          "status": "ok",
          "timestamp": 1532548435984,
          "user_tz": 240,
          "elapsed": 384,
          "user": {
            "displayName": "",
            "photoUrl": "",
            "userId": ""
          }
        }
      },
      "cell_type": "code",
      "source": [
        "model = Sequential()\n",
        "model.add(Conv2D(32, (3, 3), padding='same',\n",
        "                 input_shape=x_train.shape[1:]))\n",
        "model.add(Activation('relu'))\n",
        "model.add(Conv2D(32, (3, 3)))\n",
        "model.add(Activation('relu'))\n",
        "model.add(MaxPooling2D(pool_size=(2, 2)))\n",
        "model.add(Dropout(0.25))\n",
        "\n",
        "model.add(Conv2D(64, (3, 3), padding='same'))\n",
        "model.add(Activation('relu'))\n",
        "model.add(Conv2D(64, (3, 3)))\n",
        "model.add(Activation('relu'))\n",
        "model.add(MaxPooling2D(pool_size=(2, 2)))\n",
        "model.add(Dropout(0.25))\n",
        "\n",
        "model.add(Flatten())\n",
        "model.add(Dense(512))\n",
        "model.add(Activation('relu'))\n",
        "model.add(Dropout(0.5))\n",
        "model.add(Dense(num_classes))\n",
        "model.add(Activation('softmax'))\n",
        "\n",
        "# initiate RMSprop optimizer\n",
        "opt = keras.optimizers.rmsprop(lr=0.0001, decay=1e-6)\n",
        "\n",
        "model.summary()"
      ],
      "execution_count": 30,
      "outputs": [
        {
          "output_type": "stream",
          "text": [
            "_________________________________________________________________\n",
            "Layer (type)                 Output Shape              Param #   \n",
            "=================================================================\n",
            "conv2d_5 (Conv2D)            (None, 32, 32, 32)        896       \n",
            "_________________________________________________________________\n",
            "activation_7 (Activation)    (None, 32, 32, 32)        0         \n",
            "_________________________________________________________________\n",
            "conv2d_6 (Conv2D)            (None, 30, 30, 32)        9248      \n",
            "_________________________________________________________________\n",
            "activation_8 (Activation)    (None, 30, 30, 32)        0         \n",
            "_________________________________________________________________\n",
            "max_pooling2d_3 (MaxPooling2 (None, 15, 15, 32)        0         \n",
            "_________________________________________________________________\n",
            "dropout_4 (Dropout)          (None, 15, 15, 32)        0         \n",
            "_________________________________________________________________\n",
            "conv2d_7 (Conv2D)            (None, 15, 15, 64)        18496     \n",
            "_________________________________________________________________\n",
            "activation_9 (Activation)    (None, 15, 15, 64)        0         \n",
            "_________________________________________________________________\n",
            "conv2d_8 (Conv2D)            (None, 13, 13, 64)        36928     \n",
            "_________________________________________________________________\n",
            "activation_10 (Activation)   (None, 13, 13, 64)        0         \n",
            "_________________________________________________________________\n",
            "max_pooling2d_4 (MaxPooling2 (None, 6, 6, 64)          0         \n",
            "_________________________________________________________________\n",
            "dropout_5 (Dropout)          (None, 6, 6, 64)          0         \n",
            "_________________________________________________________________\n",
            "flatten_2 (Flatten)          (None, 2304)              0         \n",
            "_________________________________________________________________\n",
            "dense_3 (Dense)              (None, 512)               1180160   \n",
            "_________________________________________________________________\n",
            "activation_11 (Activation)   (None, 512)               0         \n",
            "_________________________________________________________________\n",
            "dropout_6 (Dropout)          (None, 512)               0         \n",
            "_________________________________________________________________\n",
            "dense_4 (Dense)              (None, 10)                5130      \n",
            "_________________________________________________________________\n",
            "activation_12 (Activation)   (None, 10)                0         \n",
            "=================================================================\n",
            "Total params: 1,250,858\n",
            "Trainable params: 1,250,858\n",
            "Non-trainable params: 0\n",
            "_________________________________________________________________\n"
          ],
          "name": "stdout"
        }
      ]
    },
    {
      "metadata": {
        "id": "U1H-eetdAZLf",
        "colab_type": "text"
      },
      "cell_type": "markdown",
      "source": [
        "### use data augmentation for training"
      ]
    },
    {
      "metadata": {
        "id": "EK1mFqYJ4pGo",
        "colab_type": "code",
        "colab": {
          "autoexec": {
            "startup": false,
            "wait_interval": 0
          },
          "base_uri": "https://localhost:8080/",
          "height": 34
        },
        "outputId": "e3b45789-703f-40a3-f411-7a3f2241c0b6",
        "executionInfo": {
          "status": "ok",
          "timestamp": 1532544836324,
          "user_tz": 240,
          "elapsed": 1001,
          "user": {
            "displayName": "",
            "photoUrl": "",
            "userId": ""
          }
        }
      },
      "cell_type": "code",
      "source": [
        "# Let's train the model using RMSprop\n",
        "model.compile(loss='categorical_crossentropy',\n",
        "              optimizer=opt,\n",
        "              metrics=['accuracy'])\n",
        "\n",
        "x_train = x_train.astype('float32')\n",
        "x_test = x_test.astype('float32')\n",
        "x_train /= 255\n",
        "x_test /= 255\n",
        "\n",
        "if not data_augmentation:\n",
        "    print('Not using data augmentation.')\n",
        "    model.fit(x_train, y_train,\n",
        "              batch_size=batch_size,\n",
        "              epochs=epochs,\n",
        "              validation_data=(x_test, y_test),\n",
        "              shuffle=True)\n",
        "else:\n",
        "    print('Using real-time data augmentation.')\n",
        "    # This will do preprocessing and realtime data augmentation:\n",
        "    datagen = ImageDataGenerator(\n",
        "        featurewise_center=False,  # set input mean to 0 over the dataset\n",
        "        samplewise_center=False,  # set each sample mean to 0\n",
        "        featurewise_std_normalization=False,  # divide inputs by std of the dataset\n",
        "        samplewise_std_normalization=False,  # divide each input by its std\n",
        "        zca_whitening=False,  # apply ZCA whitening\n",
        "        zca_epsilon=1e-06,  # epsilon for ZCA whitening\n",
        "        rotation_range=0,  # randomly rotate images in the range (degrees, 0 to 180)\n",
        "        # randomly shift images horizontally (fraction of total width)\n",
        "        width_shift_range=0.1,\n",
        "        # randomly shift images vertically (fraction of total height)\n",
        "        height_shift_range=0.1,\n",
        "        shear_range=0.,  # set range for random shear\n",
        "        zoom_range=0.,  # set range for random zoom\n",
        "        channel_shift_range=0.,  # set range for random channel shifts\n",
        "        # set mode for filling points outside the input boundaries\n",
        "        fill_mode='nearest',\n",
        "        cval=0.,  # value used for fill_mode = \"constant\"\n",
        "        horizontal_flip=True,  # randomly flip images\n",
        "        vertical_flip=False,  # randomly flip images\n",
        "        # set rescaling factor (applied before any other transformation)\n",
        "        rescale=None,\n",
        "        # set function that will be applied on each input\n",
        "        preprocessing_function=None,\n",
        "        # image data format, either \"channels_first\" or \"channels_last\"\n",
        "        data_format=None,\n",
        "        # fraction of images reserved for validation (strictly between 0 and 1)\n",
        "        validation_split=0.0)"
      ],
      "execution_count": 4,
      "outputs": [
        {
          "output_type": "stream",
          "text": [
            "Using real-time data augmentation.\n"
          ],
          "name": "stdout"
        }
      ]
    },
    {
      "metadata": {
        "id": "Ik43Wj3gAgTc",
        "colab_type": "text"
      },
      "cell_type": "markdown",
      "source": [
        "### train the model"
      ]
    },
    {
      "metadata": {
        "id": "1X_SvBpg4pGr",
        "colab_type": "code",
        "colab": {
          "autoexec": {
            "startup": false,
            "wait_interval": 0
          },
          "base_uri": "https://localhost:8080/",
          "height": 714
        },
        "outputId": "0a6b81bd-f4fb-4404-cd48-4764cd6a09cd",
        "executionInfo": {
          "status": "ok",
          "timestamp": 1532545999257,
          "user_tz": 240,
          "elapsed": 931790,
          "user": {
            "displayName": "",
            "photoUrl": "",
            "userId": ""
          }
        }
      },
      "cell_type": "code",
      "source": [
        "    # Compute quantities required for feature-wise normalization\n",
        "    # (std, mean, and principal components if ZCA whitening is applied).\n",
        "    datagen.fit(x_train)\n",
        "\n",
        "    # Fit the model on the batches generated by datagen.flow().\n",
        "    model.fit_generator(datagen.flow(x_train, y_train,\n",
        "                                     batch_size=batch_size),\n",
        "                        epochs=epochs,\n",
        "                        validation_data=(x_test, y_test),\n",
        "                        workers=1)"
      ],
      "execution_count": 6,
      "outputs": [
        {
          "output_type": "stream",
          "text": [
            "Epoch 1/20\n",
            "1563/1563 [==============================] - 60s 38ms/step - loss: 1.2867 - acc: 0.5381 - val_loss: 1.1561 - val_acc: 0.5888\n",
            "Epoch 2/20\n",
            " 183/1563 [==>...........................] - ETA: 48s - loss: 1.2820 - acc: 0.5376"
          ],
          "name": "stdout"
        },
        {
          "output_type": "stream",
          "text": [
            "1563/1563 [==============================] - 60s 39ms/step - loss: 1.2330 - acc: 0.5630 - val_loss: 1.0855 - val_acc: 0.6115\n",
            "Epoch 3/20\n",
            " 366/1563 [======>.......................] - ETA: 32s - loss: 1.2031 - acc: 0.5750"
          ],
          "name": "stdout"
        },
        {
          "output_type": "stream",
          "text": [
            "1563/1563 [==============================] - 45s 29ms/step - loss: 1.1912 - acc: 0.5767 - val_loss: 1.0564 - val_acc: 0.6271\n",
            "Epoch 4/20\n",
            " 480/1563 [========>.....................] - ETA: 29s - loss: 1.1621 - acc: 0.5886"
          ],
          "name": "stdout"
        },
        {
          "output_type": "stream",
          "text": [
            "1563/1563 [==============================] - 45s 29ms/step - loss: 1.1522 - acc: 0.5943 - val_loss: 1.0531 - val_acc: 0.6320\n",
            "Epoch 5/20\n",
            " 521/1563 [=========>....................] - ETA: 28s - loss: 1.1417 - acc: 0.5957"
          ],
          "name": "stdout"
        },
        {
          "output_type": "stream",
          "text": [
            "1563/1563 [==============================] - 45s 29ms/step - loss: 1.1185 - acc: 0.6078 - val_loss: 1.0373 - val_acc: 0.6373\n",
            "Epoch 6/20\n",
            " 536/1563 [=========>....................] - ETA: 28s - loss: 1.1058 - acc: 0.6080"
          ],
          "name": "stdout"
        },
        {
          "output_type": "stream",
          "text": [
            "1563/1563 [==============================] - 45s 29ms/step - loss: 1.0919 - acc: 0.6163 - val_loss: 0.9760 - val_acc: 0.6553\n",
            "Epoch 7/20\n",
            " 543/1563 [=========>....................] - ETA: 28s - loss: 1.0683 - acc: 0.6233"
          ],
          "name": "stdout"
        },
        {
          "output_type": "stream",
          "text": [
            "1563/1563 [==============================] - 45s 29ms/step - loss: 1.0592 - acc: 0.6296 - val_loss: 0.9559 - val_acc: 0.6615\n",
            "Epoch 8/20\n",
            " 543/1563 [=========>....................] - ETA: 28s - loss: 1.0412 - acc: 0.6343"
          ],
          "name": "stdout"
        },
        {
          "output_type": "stream",
          "text": [
            "1563/1563 [==============================] - 45s 29ms/step - loss: 1.0360 - acc: 0.6381 - val_loss: 0.9152 - val_acc: 0.6794\n",
            "Epoch 9/20\n",
            " 545/1563 [=========>....................] - ETA: 28s - loss: 1.0116 - acc: 0.6469"
          ],
          "name": "stdout"
        },
        {
          "output_type": "stream",
          "text": [
            "1563/1563 [==============================] - 45s 29ms/step - loss: 1.0068 - acc: 0.6471 - val_loss: 0.8991 - val_acc: 0.6868\n",
            "Epoch 10/20\n",
            " 542/1563 [=========>....................] - ETA: 28s - loss: 0.9965 - acc: 0.6496"
          ],
          "name": "stdout"
        },
        {
          "output_type": "stream",
          "text": [
            "1563/1563 [==============================] - 45s 29ms/step - loss: 0.9886 - acc: 0.6526 - val_loss: 0.8943 - val_acc: 0.6881\n",
            "Epoch 11/20\n",
            " 541/1563 [=========>....................] - ETA: 28s - loss: 0.9862 - acc: 0.6561"
          ],
          "name": "stdout"
        },
        {
          "output_type": "stream",
          "text": [
            "1563/1563 [==============================] - 45s 29ms/step - loss: 0.9712 - acc: 0.6595 - val_loss: 0.8567 - val_acc: 0.6997\n",
            "Epoch 12/20\n",
            " 538/1563 [=========>....................] - ETA: 28s - loss: 0.9568 - acc: 0.6680"
          ],
          "name": "stdout"
        },
        {
          "output_type": "stream",
          "text": [
            "1563/1563 [==============================] - 45s 29ms/step - loss: 0.9553 - acc: 0.6666 - val_loss: 0.8346 - val_acc: 0.7115\n",
            "Epoch 13/20\n",
            " 541/1563 [=========>....................] - ETA: 27s - loss: 0.9350 - acc: 0.6768"
          ],
          "name": "stdout"
        },
        {
          "output_type": "stream",
          "text": [
            "1563/1563 [==============================] - 45s 29ms/step - loss: 0.9411 - acc: 0.6750 - val_loss: 0.8142 - val_acc: 0.7171\n",
            "Epoch 14/20\n",
            " 540/1563 [=========>....................] - ETA: 27s - loss: 0.9421 - acc: 0.6730"
          ],
          "name": "stdout"
        },
        {
          "output_type": "stream",
          "text": [
            "1563/1563 [==============================] - 45s 29ms/step - loss: 0.9287 - acc: 0.6775 - val_loss: 0.8335 - val_acc: 0.7142\n",
            "Epoch 15/20\n",
            " 543/1563 [=========>....................] - ETA: 28s - loss: 0.9153 - acc: 0.6799"
          ],
          "name": "stdout"
        },
        {
          "output_type": "stream",
          "text": [
            "1563/1563 [==============================] - 45s 29ms/step - loss: 0.9152 - acc: 0.6808 - val_loss: 0.8602 - val_acc: 0.7017\n",
            "Epoch 16/20\n",
            " 540/1563 [=========>....................] - ETA: 28s - loss: 0.9118 - acc: 0.6845"
          ],
          "name": "stdout"
        },
        {
          "output_type": "stream",
          "text": [
            "1563/1563 [==============================] - 45s 29ms/step - loss: 0.9064 - acc: 0.6862 - val_loss: 0.8061 - val_acc: 0.7226\n",
            "Epoch 17/20\n",
            " 541/1563 [=========>....................] - ETA: 28s - loss: 0.8940 - acc: 0.6911"
          ],
          "name": "stdout"
        },
        {
          "output_type": "stream",
          "text": [
            "1563/1563 [==============================] - 45s 29ms/step - loss: 0.8990 - acc: 0.6895 - val_loss: 0.7552 - val_acc: 0.7420\n",
            "Epoch 18/20\n",
            " 538/1563 [=========>....................] - ETA: 28s - loss: 0.8893 - acc: 0.6868"
          ],
          "name": "stdout"
        },
        {
          "output_type": "stream",
          "text": [
            "1563/1563 [==============================] - 45s 29ms/step - loss: 0.8932 - acc: 0.6889 - val_loss: 0.7643 - val_acc: 0.7400\n",
            "Epoch 19/20\n",
            " 542/1563 [=========>....................] - ETA: 28s - loss: 0.8828 - acc: 0.6976"
          ],
          "name": "stdout"
        },
        {
          "output_type": "stream",
          "text": [
            "1563/1563 [==============================] - 45s 29ms/step - loss: 0.8796 - acc: 0.6965 - val_loss: 0.7890 - val_acc: 0.7272\n",
            "Epoch 20/20\n",
            " 541/1563 [=========>....................] - ETA: 28s - loss: 0.8795 - acc: 0.6985"
          ],
          "name": "stdout"
        },
        {
          "output_type": "stream",
          "text": [
            "1563/1563 [==============================] - 45s 29ms/step - loss: 0.8823 - acc: 0.6967 - val_loss: 0.7688 - val_acc: 0.7403\n"
          ],
          "name": "stdout"
        },
        {
          "output_type": "execute_result",
          "data": {
            "text/plain": [
              "<keras.callbacks.History at 0x7f305317bac8>"
            ]
          },
          "metadata": {
            "tags": []
          },
          "execution_count": 6
        }
      ]
    },
    {
      "metadata": {
        "id": "USiHxy4KAiHw",
        "colab_type": "text"
      },
      "cell_type": "markdown",
      "source": [
        "### evaluate model performance"
      ]
    },
    {
      "metadata": {
        "id": "CIr2ZfD34pGy",
        "colab_type": "code",
        "colab": {
          "autoexec": {
            "startup": false,
            "wait_interval": 0
          },
          "base_uri": "https://localhost:8080/",
          "height": 68
        },
        "outputId": "0d45f22c-76b9-4d94-fcdb-0f420837fe31",
        "executionInfo": {
          "status": "ok",
          "timestamp": 1532546235186,
          "user_tz": 240,
          "elapsed": 1878,
          "user": {
            "displayName": "",
            "photoUrl": "",
            "userId": ""
          }
        }
      },
      "cell_type": "code",
      "source": [
        "# Score trained model.\n",
        "scores = model.evaluate(x_test, y_test, verbose=1)\n",
        "print('Test loss:', scores[0])\n",
        "print('Test accuracy:', scores[1])"
      ],
      "execution_count": 7,
      "outputs": [
        {
          "output_type": "stream",
          "text": [
            "10000/10000 [==============================] - 2s 159us/step\n",
            "Test loss: 0.7688165987968445\n",
            "Test accuracy: 0.7403\n"
          ],
          "name": "stdout"
        }
      ]
    },
    {
      "metadata": {
        "id": "NDsyQaJYAkP4",
        "colab_type": "text"
      },
      "cell_type": "markdown",
      "source": [
        "### compare predictions to the input data"
      ]
    },
    {
      "metadata": {
        "id": "Y7ed9xtqyYl-",
        "colab_type": "code",
        "colab": {
          "autoexec": {
            "startup": false,
            "wait_interval": 0
          },
          "base_uri": "https://localhost:8080/",
          "height": 151
        },
        "outputId": "e5765c5e-6b09-4b17-f586-8ed505dbccec",
        "executionInfo": {
          "status": "ok",
          "timestamp": 1532547582715,
          "user_tz": 240,
          "elapsed": 889,
          "user": {
            "displayName": "",
            "photoUrl": "",
            "userId": ""
          }
        }
      },
      "cell_type": "code",
      "source": [
        "class_mapping = {0 : \"airplane\", 1 : \"automobile\", 2 : \"bird\", 3 : \"cat\", 4 : \"deer\", 5 : \"dog\", 6 : \"frog\", 7 : \"horse\", 8 : \"ship\", 9 : \"truck\"}\n",
        "\n",
        "w=10\n",
        "h=10\n",
        "fig=plt.figure(figsize=(15, 15))\n",
        "columns = 9\n",
        "rows = 1\n",
        "indices = np.random.randint(len(x_test), size=(10))\n",
        "labels = np.argmax(model.predict(x_test[indices]), axis=1)\n",
        "for i in range(1, columns*rows+1):\n",
        "    fig.add_subplot(rows, columns, i)\n",
        "    plt.imshow(x_test[indices[i-1]].reshape((32, 32, 3)))\n",
        "    plt.axis('off')\n",
        "    plt.text(15,38, class_mapping[labels[i-1]],  horizontalalignment='center', verticalalignment='center')\n",
        "    plt.text(15,45, labels[i-1],  horizontalalignment='center', verticalalignment='center')\n",
        "plt.show()"
      ],
      "execution_count": 28,
      "outputs": [
        {
          "output_type": "display_data",
          "data": {
            "image/png": "[encoded data removed]",
            "text/plain": [
              "<matplotlib.figure.Figure at 0x7f305c660198>"
            ]
          },
          "metadata": {
            "tags": []
          }
        }
      ]
    },
    {
      "metadata": {
        "id": "-vHC4ShkAo74",
        "colab_type": "text"
      },
      "cell_type": "markdown",
      "source": [
        "### look at a confusion matrix to see what was wrong with the model\n",
        "\n",
        "class_mapping = {0 : \"airplane\", 1 : \"automobile\", 2 : \"bird\", 3 : \"cat\", 4 : \"deer\", 5 : \"dog\", 6 : \"frog\", 7 : \"horse\", 8 : \"ship\", 9 : \"truck\"}\n"
      ]
    },
    {
      "metadata": {
        "id": "VKid7iWKyfDx",
        "colab_type": "code",
        "colab": {
          "autoexec": {
            "startup": false,
            "wait_interval": 0
          },
          "base_uri": "https://localhost:8080/",
          "height": 311
        },
        "outputId": "3ab23798-7033-4bb2-dd94-24eaa1b19a9d",
        "executionInfo": {
          "status": "ok",
          "timestamp": 1532547135773,
          "user_tz": 240,
          "elapsed": 2250,
          "user": {
            "displayName": "",
            "photoUrl": "",
            "userId": ""
          }
        }
      },
      "cell_type": "code",
      "source": [
        "from sklearn.metrics import confusion_matrix\n",
        "import itertools\n",
        "\n",
        "n_classes = 10\n",
        "\n",
        "Y_val_pred = np.argmax(model.predict(x_test), axis=1)\n",
        "Y_val_real = np.argmax(y_test, axis=1)\n",
        "cm = confusion_matrix(Y_val_real, Y_val_pred)\n",
        "cm = cm.astype('float') / cm.sum(axis = 1)[:, np.newaxis]\n",
        "\n",
        "# print(cm)\n",
        "plt.imshow(cm, cmap = 'gray')\n",
        "plt.title('Normalized confusion matrix')\n",
        "plt.colorbar()\n",
        "tick_marks = np.arange(n_classes)\n",
        "plt.xticks(tick_marks, np.arange(n_classes), rotation=45)\n",
        "plt.yticks(tick_marks, np.arange(n_classes))\n",
        "\n",
        "fmt = '.2f'\n",
        "thresh = cm.max() / 2.\n",
        "for i, j in itertools.product(range(cm.shape[0]), range(cm.shape[1])):\n",
        "    plt.text(j, i, format(cm[i, j], fmt),\n",
        "             horizontalalignment=\"center\",\n",
        "             color=\"white\" if cm[i, j] > thresh else \"black\")\n",
        "\n",
        "plt.tight_layout()\n",
        "plt.ylabel('True label')\n",
        "plt.xlabel('Predicted label')\n",
        "#plt.axis('off')\n",
        "plt.grid(b=None, which='major', axis='both')"
      ],
      "execution_count": 24,
      "outputs": [
        {
          "output_type": "display_data",
          "data": {
            "image/png": "[encoded data removed]",
            "text/plain": [
              "<matplotlib.figure.Figure at 0x7f305d2d4c88>"
            ]
          },
          "metadata": {
            "tags": []
          }
        }
      ]
    },
    {
      "metadata": {
        "id": "58CpGeUi3-U0",
        "colab_type": "code",
        "colab": {
          "autoexec": {
            "startup": false,
            "wait_interval": 0
          }
        }
      },
      "cell_type": "code",
      "source": [
        ""
      ],
      "execution_count": 0,
      "outputs": []
    }
  ]
}